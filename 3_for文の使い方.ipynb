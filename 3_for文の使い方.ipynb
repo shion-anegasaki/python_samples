{
 "cells": [
  {
   "cell_type": "markdown",
   "metadata": {},
   "source": [
    "# for文の使い方\n",
    "    for文とは、ある処理を繰り返し行う際に利用される文法です。これも高頻度で利用されますので、しっかり覚えましょう!\n",
    "## 基本文法\n",
    "    変数の文字列を先頭から順番にひとつずつ取り出してprint関数で出力してみます。"
   ]
  },
  {
   "cell_type": "code",
   "execution_count": 18,
   "metadata": {},
   "outputs": [
    {
     "name": "stdout",
     "output_type": "stream",
     "text": [
      "H\n",
      "e\n",
      "l\n",
      "l\n",
      "o\n",
      " \n",
      "W\n",
      "o\n",
      "r\n",
      "l\n",
      "d\n",
      ".\n"
     ]
    }
   ],
   "source": [
    "iterable_object = 'Hello World.'\n",
    "for i in iterable_object:\n",
    "    print(i)"
   ]
  },
  {
   "cell_type": "markdown",
   "metadata": {},
   "source": [
    "## イテラブルオブジェクト\n",
    "    イテラブルオブジェクトとは、順番にひとつずつ取り出して利用できるようなオブジェクトで、以下のような種類があります。\n",
    "| 型 | 内容 |\n",
    "|---|---|\n",
    "| 文字列 | 'HelloWorld' |\n",
    "| リスト | [1,2,3] |\n",
    "| 辞書 | {'key1': 'Hello', 'key2': 'World'}|\n",
    "| タプル | ('Hello', 'World') |\n",
    "| セット | {'Hello', 'World'} |"
   ]
  },
  {
   "cell_type": "markdown",
   "metadata": {},
   "source": [
    "## サンプルコード\n",
    "    いろいろなイテラブルオブジェクトを利用してながら試してみましょう。\n",
    "### range関数を使うと繰り返す回数を指定することができます。"
   ]
  },
  {
   "cell_type": "code",
   "execution_count": 19,
   "metadata": {},
   "outputs": [
    {
     "name": "stdout",
     "output_type": "stream",
     "text": [
      "0\n",
      "1\n",
      "2\n",
      "3\n",
      "4\n"
     ]
    }
   ],
   "source": [
    "times = 5\n",
    "\n",
    "for x in range(times):\n",
    "    print(x)"
   ]
  },
  {
   "cell_type": "markdown",
   "metadata": {},
   "source": [
    "### break-continue文を利用すると繰り返し処理を中断することができます。\n",
    "    continueは現在の処理を中断して次の繰り返しへ行き、breakは全ての繰り返しを中断し、for文の処理を終了します。"
   ]
  },
  {
   "cell_type": "code",
   "execution_count": 20,
   "metadata": {},
   "outputs": [
    {
     "name": "stdout",
     "output_type": "stream",
     "text": [
      "H\n",
      "l\n",
      "l\n"
     ]
    }
   ],
   "source": [
    "iterable_object = 'Hello'\n",
    "\n",
    "for x in iterable_object:\n",
    "    if x == 'e':\n",
    "        continue\n",
    "    elif x == 'o':\n",
    "        break\n",
    "    print(x)"
   ]
  },
  {
   "cell_type": "markdown",
   "metadata": {},
   "source": [
    "### enumerate関数を使うと、要素番号を一緒に取り出すことができます。"
   ]
  },
  {
   "cell_type": "code",
   "execution_count": 21,
   "metadata": {},
   "outputs": [
    {
     "name": "stdout",
     "output_type": "stream",
     "text": [
      "要素番号は0 ,要素はH\n",
      "要素番号は1 ,要素はe\n",
      "要素番号は2 ,要素はl\n",
      "要素番号は3 ,要素はl\n",
      "要素番号は4 ,要素はo\n"
     ]
    }
   ],
   "source": [
    "iterable_object = 'Hello'\n",
    "\n",
    "for i, x in enumerate(iterable_object):\n",
    "    print(\"要素番号は{} ,要素は{}\".format(i, x))"
   ]
  },
  {
   "cell_type": "markdown",
   "metadata": {},
   "source": [
    "### zip関数を使うと複数のイテラブルオブジェクトを同時に取り出すことができます。"
   ]
  },
  {
   "cell_type": "code",
   "execution_count": 22,
   "metadata": {},
   "outputs": [
    {
     "name": "stdout",
     "output_type": "stream",
     "text": [
      "H W\n",
      "e o\n",
      "l r\n",
      "l l\n",
      "o d\n"
     ]
    }
   ],
   "source": [
    "iterable_object_1 = 'Hello'\n",
    "iterable_object_2 = 'World'\n",
    "\n",
    "for x, y in zip(iterable_object_1, iterable_object_2):\n",
    "    print(x, y)"
   ]
  }
 ],
 "metadata": {
  "kernelspec": {
   "display_name": "Python 3",
   "language": "python",
   "name": "python3"
  },
  "language_info": {
   "codemirror_mode": {
    "name": "ipython",
    "version": 3
   },
   "file_extension": ".py",
   "mimetype": "text/x-python",
   "name": "python",
   "nbconvert_exporter": "python",
   "pygments_lexer": "ipython3",
   "version": "3.6.8"
  }
 },
 "nbformat": 4,
 "nbformat_minor": 4
}
