{
 "cells": [
  {
   "cell_type": "markdown",
   "metadata": {},
   "source": [
    "# if文の使い方\n",
    "    if文とは、条件によって処理を分けたい際に利用される文法です。これも高頻度で利用される文法ですので、しっかり覚えておきましょう。\n",
    "## 基礎文法"
   ]
  },
  {
   "cell_type": "code",
   "execution_count": 1,
   "metadata": {},
   "outputs": [
    {
     "name": "stdout",
     "output_type": "stream",
     "text": [
      "somedigitは1です。\n"
     ]
    }
   ],
   "source": [
    "somedigit = 1\n",
    "\n",
    "if somedigit == 1:\n",
    "   print('somedigitは1です。')\n",
    "\n",
    "elif somedigit == 2:\n",
    "   print('somedigitは2です。')\n",
    "\n",
    "else:\n",
    "   print('somedigitは1でも2でもありません。')"
   ]
  },
  {
   "cell_type": "markdown",
   "metadata": {},
   "source": [
    "[補足]\n",
    "* elif, elseは省略可能\n",
    "* elifは何個あってもよい。\n",
    "* 条件式はTrueまたはFalseになる変数や比較演算子を利用する。"
   ]
  },
  {
   "cell_type": "markdown",
   "metadata": {},
   "source": [
    "## 比較演算子\n",
    "    inやnotはpythonで特徴的な記法で、上手に利用すると綺麗なプログラムを書くことができます。\n",
    "| 演算子 | 結果 |\n",
    "|---|---|\n",
    "| x < y | xがyより小さければTrue |\n",
    "| x <= y | xがy以下であればTrue |\n",
    "| x > y | xがyより大きければTrue |\n",
    "| x >= y | xがy以上であればTrue |\n",
    "| x == y | xとyが等しければTrue |\n",
    "| x != y | xとyが等しくなければTrue |\n",
    "| x in y | xがyに含まれていればTrue |\n",
    "| x not in y | xがyに含まれていなければTrue |"
   ]
  },
  {
   "cell_type": "markdown",
   "metadata": {},
   "source": [
    "## 論理演算子\n",
    "    複数の条件を組み合わせる時に利用されます。\n",
    "| 演算子 | 結果 |\n",
    "|---|---|\n",
    "| 条件① and 条件② | 条件①、条件②がどちらもTrueの場合にTrue |\n",
    "| 条件① or 条件② | 条件①、条件②のどちらかが,Trueの場合にTrue |\n",
    "| not 条件① | 条件①がTrueであればFalse,,条件①がFalseであればTrue |\n",
    "\n",
    "## サンプルコード\n",
    "### 最初のコードの変数を変えて実行してみましょう。"
   ]
  },
  {
   "cell_type": "code",
   "execution_count": 2,
   "metadata": {},
   "outputs": [
    {
     "name": "stdout",
     "output_type": "stream",
     "text": [
      "somedigitは2です。\n"
     ]
    }
   ],
   "source": [
    "somedigit = 2\n",
    "\n",
    "if somedigit == 1:\n",
    "   print('somedigitは1です。')\n",
    "\n",
    "elif somedigit == 2:\n",
    "   print('somedigitは2です。')\n",
    "\n",
    "else:\n",
    "   print('somedigitは1でも2でもありません。')"
   ]
  },
  {
   "cell_type": "code",
   "execution_count": 3,
   "metadata": {},
   "outputs": [
    {
     "name": "stdout",
     "output_type": "stream",
     "text": [
      "somedigitは1でも2でもありません。\n"
     ]
    }
   ],
   "source": [
    "somedigit = 3\n",
    "\n",
    "if somedigit == 1:\n",
    "   print('somedigitは1です。')\n",
    "\n",
    "elif somedigit == 2:\n",
    "   print('somedigitは2です。')\n",
    "\n",
    "else:\n",
    "   print('somedigitは1でも2でもありません。')"
   ]
  },
  {
   "cell_type": "markdown",
   "metadata": {},
   "source": [
    "### inの使い方もみてみましょう。"
   ]
  },
  {
   "cell_type": "code",
   "execution_count": 4,
   "metadata": {},
   "outputs": [
    {
     "name": "stdout",
     "output_type": "stream",
     "text": [
      "Helloはsomethingに含まれています。\n"
     ]
    }
   ],
   "source": [
    "something = 'Hello World.'\n",
    "\n",
    "if 'Hello' in something:\n",
    "    print('Helloはsomethingに含まれています。')\n",
    "else:\n",
    "    print('Helloはsomethingに含まれていません。')"
   ]
  },
  {
   "cell_type": "markdown",
   "metadata": {},
   "source": [
    "### 論理演算子の使い方もみてみましょう。"
   ]
  },
  {
   "cell_type": "code",
   "execution_count": 5,
   "metadata": {},
   "outputs": [
    {
     "name": "stdout",
     "output_type": "stream",
     "text": [
      "somedigitは1かつsomethingにHelloが含まれています。\n"
     ]
    }
   ],
   "source": [
    "somedigit = 1\n",
    "something = 'Hello World.'\n",
    "\n",
    "if somedigit == 1 and 'Hello' in something:\n",
    "    print('somedigitは1かつsomethingにHelloが含まれています。')\n",
    "elif somedigit == 1 and 'Hello' not in something:\n",
    "    print('somedigitは1かつsomethingにHelloが含まれていません。')"
   ]
  },
  {
   "cell_type": "markdown",
   "metadata": {},
   "source": [
    "全ての組み合わせは紹介できませんでしたが、自分なりに変数を変えたりしたがら試してみてください！"
   ]
  }
 ],
 "metadata": {
  "kernelspec": {
   "display_name": "Python 3",
   "language": "python",
   "name": "python3"
  },
  "language_info": {
   "codemirror_mode": {
    "name": "ipython",
    "version": 3
   },
   "file_extension": ".py",
   "mimetype": "text/x-python",
   "name": "python",
   "nbconvert_exporter": "python",
   "pygments_lexer": "ipython3",
   "version": "3.6.8"
  }
 },
 "nbformat": 4,
 "nbformat_minor": 4
}
