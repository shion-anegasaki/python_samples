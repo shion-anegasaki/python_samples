{
 "cells": [
  {
   "cell_type": "markdown",
   "metadata": {},
   "source": [
    "# オブジェクト指向\n",
    "プログラミングやプログラミング言語を勉強していると、  \n",
    "**オブジェクト指向** という言葉を少なくとも1回くらいは聞いたことあると思います。  \n",
    "Pythonも一応オブジェクト指向言語なので、雰囲気くらいは理解しておきましょう！\n",
    "\n",
    "## オブジェクトとは\n",
    "オブジェクトとは、「もの」とか「物体」といった意味です。  \n",
    "オブジェクト指向言語の世界では、全てのものがオブジェクトとなります。  \n",
    "**「全て」** というのが難しいのですが。。。「整数」とか「文字列」とかです。  \n",
    "「List」や「Dict」もオブジェクトです。何となくわかってきました？  \n",
    "  \n",
    "さらにいうと、全てのオブジェクトはデータ型を持っています。  \n",
    "データの特徴のようなものです。  \n",
    "  \n",
    "| 変数 | 型 |\n",
    "|---|---|\n",
    "| '文字列' | str(文字列）型 |\n",
    "| 1 | int (整数)型 |\n",
    "| ['apple', 'orange'] | List(配列)型 |\n",
    "| {'key': 'value'} | Dict(辞書)型 |\n",
    "\n",
    "\n",
    "## クラスとオブジェクト\n",
    "**オブジェクト** と **クラス** は必ずセットで出てきます。  \n",
    "\n",
    "### クラス\n",
    "クラスとは、型を定義した設計書のことを言います。  \n",
    "設計書の中には、どのような変数や関数を持っているかが記載されています。（※ カプセル化）  \n",
    "実際に **「犬」** クラスを作ってみましょう。  \n",
    "  \n",
    "犬の特徴は\n",
    "- 名前がある\n",
    "- 走る\n",
    "\n",
    "の2つだとします。すると **「犬」** クラスは"
   ]
  },
  {
   "cell_type": "code",
   "execution_count": 4,
   "metadata": {},
   "outputs": [],
   "source": [
    "### 犬クラス\n",
    "class Dog:\n",
    "    def __init__(self, name):\n",
    "        ### 初期化処理\n",
    "        self.name = name\n",
    "\n",
    "    def run(self):\n",
    "        ### 走る処理\n",
    "        print('running.')"
   ]
  },
  {
   "cell_type": "markdown",
   "metadata": {},
   "source": [
    "これがPythonの世界における「犬」の設計図（Dog Class）になります。  \n",
    "\n",
    "### オブジェクト\n",
    "オブジェクトとは、クラスをもとに実体化したもののことを言います。  \n",
    "実際に `dog` 変数に `Dog` オブジェクトを作成してみましょう。"
   ]
  },
  {
   "cell_type": "code",
   "execution_count": 5,
   "metadata": {},
   "outputs": [],
   "source": [
    "dog = Dog('太郎')"
   ]
  },
  {
   "cell_type": "markdown",
   "metadata": {},
   "source": [
    "`クラス名（引数）` のような形で呼び出し方でオブジェクトを作成できます。  \n",
    "*__init__* 関数の引数に指定されているものを呼び出しの際に渡す必要があります。  \n",
    "クラスからオブジェクトを作成することを  \n",
    "**オブジェクト化** または **インスタンス化** するといいます。  \n",
    "生み出した犬の名前を確認して走らせてみましょう！"
   ]
  },
  {
   "cell_type": "code",
   "execution_count": 7,
   "metadata": {},
   "outputs": [
    {
     "name": "stdout",
     "output_type": "stream",
     "text": [
      "太郎\n",
      "running.\n"
     ]
    }
   ],
   "source": [
    "print(dog.name)\n",
    "dog.run()"
   ]
  },
  {
   "cell_type": "markdown",
   "metadata": {},
   "source": [
    "`オブジェクト.変数名` でオブジェクトの持つ変数にアクセスできます。  \n",
    "`オブジェクト.関数名()` でオブジェクトの持つ関数を実行できます。  \n",
    "  \n",
    "## 継承\n",
    "オブジェクト指向で最も有効な仕組みがこの **「継承」** です。  \n",
    "景勝とはあるクラスの内容を引き継いで新しいクラスを作ることを言います。  \n",
    "先ほど作成した犬クラスを利用して、 **空飛ぶ犬** クラスを作ってみましょう！"
   ]
  },
  {
   "cell_type": "code",
   "execution_count": 8,
   "metadata": {},
   "outputs": [],
   "source": [
    "### 空飛ぶ犬クラス\n",
    "class FlyingDog(Dog):\n",
    "    def fly(self):\n",
    "        ### 空飛ぶ処理\n",
    "        print('flying !!!')"
   ]
  },
  {
   "cell_type": "markdown",
   "metadata": {},
   "source": [
    "空飛ぶ犬クラスをインスタンス化します。"
   ]
  },
  {
   "cell_type": "code",
   "execution_count": 10,
   "metadata": {},
   "outputs": [
    {
     "name": "stdout",
     "output_type": "stream",
     "text": [
      "次郎\n",
      "running.\n"
     ]
    }
   ],
   "source": [
    "flying_dog = FlyingDog('次郎')\n",
    "print(flying_dog.name)\n",
    "flying_dog.run()"
   ]
  },
  {
   "cell_type": "markdown",
   "metadata": {},
   "source": [
    "ここまでは先ほどの犬クラスと同様ですが、この犬は空を飛びます。"
   ]
  },
  {
   "cell_type": "code",
   "execution_count": 12,
   "metadata": {},
   "outputs": [
    {
     "name": "stdout",
     "output_type": "stream",
     "text": [
      "flying !!!\n"
     ]
    }
   ],
   "source": [
    "flying_dog.fly()"
   ]
  },
  {
   "cell_type": "markdown",
   "metadata": {},
   "source": [
    "**飛びました！！！！！**  \n",
    "  \n",
    "## オーバーライド\n",
    "同名の変数や関数を宣言すると処理を上書きすることができます。"
   ]
  },
  {
   "cell_type": "code",
   "execution_count": 15,
   "metadata": {},
   "outputs": [],
   "source": [
    "### 空飛ぶ犬クラス\n",
    "class FlyingDog(Dog):\n",
    "\n",
    "    def run(self):\n",
    "        ### 走る処理\n",
    "        super().run()\n",
    "        self.fly()\n",
    "\n",
    "    def fly(self):\n",
    "        ### 空飛ぶ処理\n",
    "        print('flying !!!')"
   ]
  },
  {
   "cell_type": "markdown",
   "metadata": {},
   "source": [
    "空飛ぶ犬は走っても速すぎるので、最終的に飛んでしまいます。  "
   ]
  },
  {
   "cell_type": "code",
   "execution_count": 16,
   "metadata": {},
   "outputs": [
    {
     "name": "stdout",
     "output_type": "stream",
     "text": [
      "running.\n",
      "flying !!!\n"
     ]
    }
   ],
   "source": [
    "flying_dog = FlyingDog('三郎')\n",
    "flying_dog.run()"
   ]
  },
  {
   "cell_type": "markdown",
   "metadata": {},
   "source": [
    "`super()` を利用すると継承もとのクラスが本来持っている変数や関数を利用できます。\n",
    "\n",
    "## 抽象化\n",
    "これまでの継承の特徴を利用して、共通の特徴を持つクラスを作成し、   \n",
    "異なる特徴のみを共通クラスを継承しながら作ることを **抽象化** と言います。  \n",
    "犬は本来動物で、動物は走れます。これをクラスで表現すると"
   ]
  },
  {
   "cell_type": "code",
   "execution_count": 21,
   "metadata": {},
   "outputs": [],
   "source": [
    "from abc import ABCMeta, abstractmethod\n",
    "\n",
    "### 動物クラス\n",
    "class Animal(metaclass=ABCMeta):\n",
    "    \n",
    "    @abstractmethod\n",
    "    def voice(self):\n",
    "        pass\n",
    "\n",
    "    def run(self):\n",
    "        ### 走る処理\n",
    "        print('running.')\n",
    "\n",
    "### 犬クラス\n",
    "class Dog(Animal):\n",
    "    def voice(self):\n",
    "        print('ワン！')\n",
    "\n",
    "### 猫クラス\n",
    "class Cat(Animal):\n",
    "    def sleep(self):\n",
    "        print('Zzz...')"
   ]
  },
  {
   "cell_type": "code",
   "execution_count": 23,
   "metadata": {},
   "outputs": [
    {
     "ename": "TypeError",
     "evalue": "Can't instantiate abstract class Cat with abstract methods voice",
     "output_type": "error",
     "traceback": [
      "\u001b[0;31m\u001b[0m",
      "\u001b[0;31mTypeError\u001b[0mTraceback (most recent call last)",
      "\u001b[0;32m<ipython-input-23-602f69e24060>\u001b[0m in \u001b[0;36m<module>\u001b[0;34m\u001b[0m\n\u001b[1;32m      1\u001b[0m \u001b[0mdog\u001b[0m \u001b[0;34m=\u001b[0m \u001b[0mDog\u001b[0m\u001b[0;34m(\u001b[0m\u001b[0;34m)\u001b[0m\u001b[0;34m\u001b[0m\u001b[0;34m\u001b[0m\u001b[0m\n\u001b[0;32m----> 2\u001b[0;31m \u001b[0mcat\u001b[0m \u001b[0;34m=\u001b[0m \u001b[0mCat\u001b[0m\u001b[0;34m(\u001b[0m\u001b[0;34m)\u001b[0m\u001b[0;34m\u001b[0m\u001b[0;34m\u001b[0m\u001b[0m\n\u001b[0m",
      "\u001b[0;31mTypeError\u001b[0m: Can't instantiate abstract class Cat with abstract methods voice"
     ]
    }
   ],
   "source": [
    "dog = Dog()\n",
    "cat = Cat()"
   ]
  },
  {
   "cell_type": "markdown",
   "metadata": {},
   "source": [
    "ここで利用されている `abstractmethod` というのは、  \n",
    "継承するときは絶対オーバーライドしてねっという約束です。  \n",
    "クラスの作成者から利用者に対して、固有の処理を書き忘れないように  \n",
    "という意味で利用されると思ってください。  \n",
    "なので、犬クラスでは実装していた `voice関数` が、  \n",
    "猫クラスでは実装されていないので上記のようなエラーが発生しています。"
   ]
  }
 ],
 "metadata": {
  "kernelspec": {
   "display_name": "Python 3",
   "language": "python",
   "name": "python3"
  },
  "language_info": {
   "codemirror_mode": {
    "name": "ipython",
    "version": 3
   },
   "file_extension": ".py",
   "mimetype": "text/x-python",
   "name": "python",
   "nbconvert_exporter": "python",
   "pygments_lexer": "ipython3",
   "version": "3.6.8"
  }
 },
 "nbformat": 4,
 "nbformat_minor": 4
}
