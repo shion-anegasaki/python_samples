{
 "cells": [
  {
   "cell_type": "markdown",
   "metadata": {},
   "source": [
    "# tuple（不変オブジェクト）の使い方\n",
    "tupleとは、Pythonが持つ不変（イミュータブル）オブジェクトのひとつです。  \n",
    "listやdictのように要素の追加、変更や削除などの操作が行えません。\n",
    "\n",
    "公式ドキュメント:  \n",
    "https://docs.python.org/ja/3/tutorial/datastructures.html#tuples-and-sequences  \n",
    "\n",
    "## 扱い方"
   ]
  },
  {
   "cell_type": "code",
   "execution_count": 2,
   "metadata": {},
   "outputs": [],
   "source": [
    "# 要素を()で囲んで、カンマで区切る\n",
    "x = (0, 1, 2)\n",
    "\n",
    "# 同じ型じゃなくてもいい\n",
    "y = (0, 1, 'ni') \n",
    "\n",
    "# tupleにtupleを含めることもできる\n",
    "z = ((0, 1, 2), (3, 4, 5), (6, 7, 8)) "
   ]
  },
  {
   "cell_type": "markdown",
   "metadata": {},
   "source": [
    "一見不便そうに思えるtupleですが、以下のような特徴があります。\n",
    "- 要素の追加、変更、削除ができない\n",
    "- listに比べて省メモリで扱える\n",
    "- listに比べて処理が早い\n",
    "- tupleとlistは相互に変換可能\n",
    "\n",
    "要素の変更を行えないので、例えば"
   ]
  },
  {
   "cell_type": "code",
   "execution_count": 3,
   "metadata": {},
   "outputs": [
    {
     "ename": "TypeError",
     "evalue": "'tuple' object does not support item assignment",
     "output_type": "error",
     "traceback": [
      "\u001b[0;31m\u001b[0m",
      "\u001b[0;31mTypeError\u001b[0mTraceback (most recent call last)",
      "\u001b[0;32m<ipython-input-3-90db26ba069f>\u001b[0m in \u001b[0;36m<module>\u001b[0;34m\u001b[0m\n\u001b[1;32m      1\u001b[0m \u001b[0mx\u001b[0m \u001b[0;34m=\u001b[0m \u001b[0;34m(\u001b[0m\u001b[0;36m0\u001b[0m\u001b[0;34m,\u001b[0m \u001b[0;36m1\u001b[0m\u001b[0;34m,\u001b[0m \u001b[0;36m2\u001b[0m\u001b[0;34m)\u001b[0m\u001b[0;34m\u001b[0m\u001b[0;34m\u001b[0m\u001b[0m\n\u001b[0;32m----> 2\u001b[0;31m \u001b[0mx\u001b[0m\u001b[0;34m[\u001b[0m\u001b[0;36m0\u001b[0m\u001b[0;34m]\u001b[0m \u001b[0;34m=\u001b[0m \u001b[0;36m10\u001b[0m\u001b[0;34m\u001b[0m\u001b[0;34m\u001b[0m\u001b[0m\n\u001b[0m",
      "\u001b[0;31mTypeError\u001b[0m: 'tuple' object does not support item assignment"
     ]
    }
   ],
   "source": [
    "x = (0, 1, 2)\n",
    "x[0] = 10"
   ]
  },
  {
   "cell_type": "markdown",
   "metadata": {},
   "source": [
    "変更を試みると上記のようなエラーが発生してしまいます。\n",
    "\n",
    "## tupleの操作\n",
    "tupleが持つ関数は **count関数** と **index関数** のみです。\n",
    "\n",
    "### 要素の出現回数を取得"
   ]
  },
  {
   "cell_type": "code",
   "execution_count": 4,
   "metadata": {},
   "outputs": [
    {
     "name": "stdout",
     "output_type": "stream",
     "text": [
      "3\n"
     ]
    }
   ],
   "source": [
    "x = (1, 1, 1, 2)\n",
    "# 引数に出現回数を調べたい要素を渡す\n",
    "print(x.count(1))"
   ]
  },
  {
   "cell_type": "markdown",
   "metadata": {},
   "source": [
    "### 最初に出現する要素番号を取得"
   ]
  },
  {
   "cell_type": "code",
   "execution_count": 5,
   "metadata": {},
   "outputs": [
    {
     "name": "stdout",
     "output_type": "stream",
     "text": [
      "2\n"
     ]
    }
   ],
   "source": [
    "x = (1, 1, 2, 1)\n",
    "print(x.index(2))"
   ]
  },
  {
   "cell_type": "markdown",
   "metadata": {},
   "source": [
    "### tupleからlistへ変換"
   ]
  },
  {
   "cell_type": "code",
   "execution_count": 6,
   "metadata": {},
   "outputs": [
    {
     "name": "stdout",
     "output_type": "stream",
     "text": [
      "<class 'tuple'>\n",
      "<class 'list'>\n"
     ]
    }
   ],
   "source": [
    "# type関数は型を調べるのに利用します。\n",
    "x = (1, 1, 2, 1)\n",
    "print(type(x))\n",
    "\n",
    "x = list(x)\n",
    "print(type(x))"
   ]
  },
  {
   "cell_type": "markdown",
   "metadata": {},
   "source": [
    "### listからtupleへ変換"
   ]
  },
  {
   "cell_type": "code",
   "execution_count": 7,
   "metadata": {},
   "outputs": [
    {
     "name": "stdout",
     "output_type": "stream",
     "text": [
      "<class 'list'>\n",
      "<class 'tuple'>\n"
     ]
    }
   ],
   "source": [
    "x = [0, 1, 2, 3]\n",
    "print(type(x))\n",
    "\n",
    "x = tuple(x)\n",
    "print(type(x))"
   ]
  },
  {
   "cell_type": "markdown",
   "metadata": {},
   "source": [
    "### 要素の操作\n",
    "listに変換してしまえば要素の追加、変更や削除などの操作を行うことができます。  \n",
    "また再度tupleに変換してしまえば、イミュータブルオブジェクトとなります。  \n",
    "  \n",
    "操作についてはlistの項目を参考にしてみてください！  \n",
    "また、tuple同士であれば加算が可能なので"
   ]
  },
  {
   "cell_type": "code",
   "execution_count": 8,
   "metadata": {},
   "outputs": [
    {
     "name": "stdout",
     "output_type": "stream",
     "text": [
      "(1, 2, 3)\n",
      "(0, 1, 2, 3)\n",
      "(0, 1, 2, 3, 4)\n"
     ]
    }
   ],
   "source": [
    "x = (1, 2, 3)\n",
    "print(x)\n",
    "\n",
    "x = (0, ) + x\n",
    "print(x)\n",
    "\n",
    "x = x + (4,)\n",
    "print(x)"
   ]
  },
  {
   "cell_type": "markdown",
   "metadata": {},
   "source": [
    "のような操作も可能です。\n",
    "\n",
    "### その他の操作\n",
    "tupleはイテラブルオブジェクトでもあるので、for文 で回すことができます。  \n",
    "  \n",
    "<p style=\"color:red\">※ 厳密に言うとlistがイテレータを利用しているのに対して、tupleはジェネレータを利用している違いはありますが、どちらもイテラブルオブジェクトと呼びます。</p>"
   ]
  },
  {
   "cell_type": "code",
   "execution_count": 9,
   "metadata": {},
   "outputs": [
    {
     "name": "stdout",
     "output_type": "stream",
     "text": [
      "1\n",
      "2\n",
      "3\n",
      "4\n"
     ]
    }
   ],
   "source": [
    "for i in (1, 2, 3, 4):\n",
    "    print(i)"
   ]
  }
 ],
 "metadata": {
  "kernelspec": {
   "display_name": "Python 3",
   "language": "python",
   "name": "python3"
  },
  "language_info": {
   "codemirror_mode": {
    "name": "ipython",
    "version": 3
   },
   "file_extension": ".py",
   "mimetype": "text/x-python",
   "name": "python",
   "nbconvert_exporter": "python",
   "pygments_lexer": "ipython3",
   "version": "3.6.8"
  }
 },
 "nbformat": 4,
 "nbformat_minor": 4
}
