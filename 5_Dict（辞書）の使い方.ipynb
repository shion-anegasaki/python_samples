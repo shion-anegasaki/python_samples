{
 "cells": [
  {
   "cell_type": "markdown",
   "metadata": {},
   "source": [
    "# Dict（辞書）の使い方\n",
    "Dict（辞書）とは、Pythonのもつデータ型のうち、値と名前の組み合わせを要素とし、複数の要素をひとまとめとして扱えるものです。\n",
    "\n",
    "## Dictの使い方\n",
    "要素の名前をキー、要素の値をバリューと呼び、キーとバリューのセットをひとつの要素として扱います。  \n",
    "キーは基本的に文字列で、バリューは何でも扱うことができます。参照するときはキーを利用します。"
   ]
  },
  {
   "cell_type": "code",
   "execution_count": 2,
   "metadata": {},
   "outputs": [
    {
     "name": "stdout",
     "output_type": "stream",
     "text": [
      "value_1\n",
      "2\n"
     ]
    }
   ],
   "source": [
    "x = {'key_1': 'value_1','キー2':2 } ### {}で囲んで、キー:バリューをカンマ区切りにします。\n",
    "print(x['key_1'])\n",
    "print(x['キー2'])"
   ]
  },
  {
   "cell_type": "markdown",
   "metadata": {},
   "source": [
    "※ キーが存在しない場合はエラーとなります。その場合は、get関数を利用して、デフォルトの値をセットしておくと回避できます。"
   ]
  },
  {
   "cell_type": "code",
   "execution_count": 3,
   "metadata": {},
   "outputs": [
    {
     "ename": "KeyError",
     "evalue": "'key_2'",
     "output_type": "error",
     "traceback": [
      "\u001b[0;31m\u001b[0m",
      "\u001b[0;31mKeyError\u001b[0mTraceback (most recent call last)",
      "\u001b[0;32m<ipython-input-3-e3b8b842a4a3>\u001b[0m in \u001b[0;36m<module>\u001b[0;34m\u001b[0m\n\u001b[1;32m      1\u001b[0m \u001b[0mx\u001b[0m \u001b[0;34m=\u001b[0m \u001b[0;34m{\u001b[0m\u001b[0;34m'key_1'\u001b[0m\u001b[0;34m:\u001b[0m \u001b[0;34m'value_1'\u001b[0m\u001b[0;34m,\u001b[0m\u001b[0;34m'キー2'\u001b[0m\u001b[0;34m:\u001b[0m\u001b[0;36m2\u001b[0m \u001b[0;34m}\u001b[0m\u001b[0;34m\u001b[0m\u001b[0;34m\u001b[0m\u001b[0m\n\u001b[0;32m----> 2\u001b[0;31m \u001b[0mprint\u001b[0m\u001b[0;34m(\u001b[0m\u001b[0mx\u001b[0m\u001b[0;34m[\u001b[0m\u001b[0;34m'key_2'\u001b[0m\u001b[0;34m]\u001b[0m\u001b[0;34m)\u001b[0m\u001b[0;34m\u001b[0m\u001b[0;34m\u001b[0m\u001b[0m\n\u001b[0m",
      "\u001b[0;31mKeyError\u001b[0m: 'key_2'"
     ]
    }
   ],
   "source": [
    "x = {'key_1': 'value_1','キー2':2 }\n",
    "print(x['key_2'])"
   ]
  },
  {
   "cell_type": "code",
   "execution_count": 4,
   "metadata": {},
   "outputs": [
    {
     "name": "stdout",
     "output_type": "stream",
     "text": [
      "default value\n"
     ]
    }
   ],
   "source": [
    "print(x.get('key_2', 'default value')) ### デフォルトの値は第二引数に指定します。"
   ]
  },
  {
   "cell_type": "markdown",
   "metadata": {},
   "source": [
    "## Dictの操作\n",
    "* ### 要素追加"
   ]
  },
  {
   "cell_type": "code",
   "execution_count": 28,
   "metadata": {},
   "outputs": [
    {
     "name": "stdout",
     "output_type": "stream",
     "text": [
      "{'key_1': 'value'}\n",
      "{'key_1': 'value', 'key_2': 2}\n"
     ]
    }
   ],
   "source": [
    "x = {'key_1': 'value'}\n",
    "print(x)\n",
    "\n",
    "x['key_2'] = 2\n",
    "print(x)"
   ]
  },
  {
   "cell_type": "markdown",
   "metadata": {},
   "source": [
    "* ### 要素削除"
   ]
  },
  {
   "cell_type": "code",
   "execution_count": 29,
   "metadata": {},
   "outputs": [
    {
     "name": "stdout",
     "output_type": "stream",
     "text": [
      "{'key_1': 'value', 'key_2': 2}\n",
      "{'key_2': 2}\n",
      "{}\n"
     ]
    }
   ],
   "source": [
    "x = {'key_1': 'value', 'key_2': 2}\n",
    "print(x)\n",
    "\n",
    "x.pop('key_1')\n",
    "print(x)\n",
    "\n",
    "del x['key_2']\n",
    "print(x)"
   ]
  },
  {
   "cell_type": "markdown",
   "metadata": {},
   "source": [
    "* ### 要素全て削除"
   ]
  },
  {
   "cell_type": "code",
   "execution_count": 30,
   "metadata": {},
   "outputs": [
    {
     "name": "stdout",
     "output_type": "stream",
     "text": [
      "{'key_1': 'value', 'key_2': 2}\n",
      "{}\n"
     ]
    }
   ],
   "source": [
    "x = {'key_1': 'value', 'key_2': 2}\n",
    "print(x)\n",
    "\n",
    "x.clear()\n",
    "print(x)"
   ]
  },
  {
   "cell_type": "markdown",
   "metadata": {},
   "source": [
    "* ### キーの存在確認\n",
    "if文で出てきたinを利用することで調べることができます。"
   ]
  },
  {
   "cell_type": "code",
   "execution_count": 31,
   "metadata": {},
   "outputs": [
    {
     "name": "stdout",
     "output_type": "stream",
     "text": [
      "True\n",
      "False\n",
      "True\n",
      "False\n"
     ]
    }
   ],
   "source": [
    "x = {'key_1': 'value', 'key_2': 2}\n",
    "print('key_1' in x) ### 存在する場合はTrue\n",
    "print('key_3' in x) ### 存在しない場合はFalse\n",
    "\n",
    "### keys関数を利用するとキーのリストを取得できる。\n",
    "print('key_1' in x.keys())\n",
    "print('key_3' in x.keys())"
   ]
  },
  {
   "cell_type": "markdown",
   "metadata": {},
   "source": [
    "* ### 値の存在確認"
   ]
  },
  {
   "cell_type": "code",
   "execution_count": 32,
   "metadata": {},
   "outputs": [
    {
     "name": "stdout",
     "output_type": "stream",
     "text": [
      "True\n",
      "False\n"
     ]
    }
   ],
   "source": [
    "x = {'key_1': 'value', 'key_2': 2}\n",
    "\n",
    "### values関数を利用すると値のリストを取得できる。\n",
    "print('value' in x.values())\n",
    "print(1 in x.values())"
   ]
  },
  {
   "cell_type": "markdown",
   "metadata": {},
   "source": [
    "* ### キーとバリューの組み合わせ存在確認"
   ]
  },
  {
   "cell_type": "code",
   "execution_count": 33,
   "metadata": {},
   "outputs": [
    {
     "name": "stdout",
     "output_type": "stream",
     "text": [
      "True\n",
      "False\n"
     ]
    }
   ],
   "source": [
    "x = {'key_1': 'value', 'key_2': 2}\n",
    "\n",
    "### items関数を利用するとキーとバリューの組み合わせのリストを取得できる。\n",
    "print(('key_1', 'value') in x.items())\n",
    "print(('key_2', 3) in x.items())"
   ]
  },
  {
   "cell_type": "markdown",
   "metadata": {},
   "source": [
    "## Dictの内包表記\n",
    "    DictもListと同様、新たなDict型の変数を作成する際に、内包表記を利用することができます。"
   ]
  },
  {
   "cell_type": "code",
   "execution_count": 34,
   "metadata": {},
   "outputs": [
    {
     "name": "stdout",
     "output_type": "stream",
     "text": [
      "{'a': 'a', 'b': 'b', 'c': 'c'}\n"
     ]
    }
   ],
   "source": [
    "x = {}\n",
    "for i in ['a','b','c']:\n",
    "    ### キーは文字列にする必要があるのでstr関数を利用している\n",
    "    x[str(i)] = i\n",
    "\n",
    "print(x)"
   ]
  },
  {
   "cell_type": "code",
   "execution_count": 35,
   "metadata": {},
   "outputs": [
    {
     "name": "stdout",
     "output_type": "stream",
     "text": [
      "{'a': 'a', 'b': 'b', 'c': 'c'}\n"
     ]
    }
   ],
   "source": [
    "x = {str(i): i for i in ['a','b','c']}\n",
    "print(x)"
   ]
  },
  {
   "cell_type": "markdown",
   "metadata": {},
   "source": [
    "    イテラブルオブジェクトがDictの場合はitems関数を組み合わせて書くことができます。"
   ]
  },
  {
   "cell_type": "code",
   "execution_count": 36,
   "metadata": {},
   "outputs": [
    {
     "name": "stdout",
     "output_type": "stream",
     "text": [
      "{'name_1': '山田', 'age_1': 25, 'name_2': '佐藤', 'age_2': 20}\n"
     ]
    }
   ],
   "source": [
    "x = {'name_1': '山田', 'age_1': 25,'name_2': '佐藤', 'age_2': 20}\n",
    "y = {key: value for key, value in x.items()}\n",
    "print(y)"
   ]
  },
  {
   "cell_type": "markdown",
   "metadata": {},
   "source": [
    "    Listと同様にif文を組み合わせて利用することも可能です。"
   ]
  },
  {
   "cell_type": "code",
   "execution_count": 37,
   "metadata": {},
   "outputs": [
    {
     "name": "stdout",
     "output_type": "stream",
     "text": [
      "{'name_1': '山田', 'name_2': '佐藤'}\n"
     ]
    }
   ],
   "source": [
    "x = {'name_1': '山田', 'age_1': 25,'name_2': '佐藤', 'age_2': 20}\n",
    "y = {key: value for key, value in x.items() if 'name' in key}\n",
    "print(y)"
   ]
  }
 ],
 "metadata": {
  "kernelspec": {
   "display_name": "Python 3",
   "language": "python",
   "name": "python3"
  },
  "language_info": {
   "codemirror_mode": {
    "name": "ipython",
    "version": 3
   },
   "file_extension": ".py",
   "mimetype": "text/x-python",
   "name": "python",
   "nbconvert_exporter": "python",
   "pygments_lexer": "ipython3",
   "version": "3.6.8"
  }
 },
 "nbformat": 4,
 "nbformat_minor": 4
}
