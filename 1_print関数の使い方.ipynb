{
 "cells": [
  {
   "cell_type": "markdown",
   "metadata": {},
   "source": [
    "# print関数の使い方\n",
    "    print関数とは、プログラムからコンソールや画面に文字列を出力する関数です。  \n",
    "    高頻度で利用するのでしっかり覚えておきましょう。\n",
    "## 基礎文法"
   ]
  },
  {
   "cell_type": "code",
   "execution_count": 2,
   "metadata": {},
   "outputs": [
    {
     "name": "stdout",
     "output_type": "stream",
     "text": [
      "Hello World.\n",
      "Hello World.\n"
     ]
    }
   ],
   "source": [
    "print('Hello World.')\n",
    "\n",
    "### 第２引数はデフォルトで改行文字になっているので、\n",
    "### 空文字に置き換えると改行されなくなります。\n",
    "print('Hello ', end='')\n",
    "print('World.')"
   ]
  },
  {
   "cell_type": "code",
   "execution_count": 3,
   "metadata": {},
   "outputs": [
    {
     "name": "stdout",
     "output_type": "stream",
     "text": [
      "何らかの文字列\n",
      "12345\n"
     ]
    }
   ],
   "source": [
    "### 変数の中身を確認する際にも利用できます。\n",
    "something = '何らかの文字列'\n",
    "print(something)\n",
    "\n",
    "### 変数が数値でも出力できます。\n",
    "somedigit = 12345\n",
    "print(somedigit)"
   ]
  },
  {
   "cell_type": "markdown",
   "metadata": {},
   "source": [
    "## format関数\n",
    "    テンプレート化した文字列の途中で変数を展開する \"format関数\" もprint関数と一緒によく利用されます。"
   ]
  },
  {
   "cell_type": "code",
   "execution_count": 4,
   "metadata": {},
   "outputs": [
    {
     "name": "stdout",
     "output_type": "stream",
     "text": [
      "Hello World.\n",
      "Hello Python.\n",
      "Hello World.\n",
      "Hello Python.\n"
     ]
    }
   ],
   "source": [
    "### 指定部分に変数を展開\n",
    "print('Hello {}.'.format('World'))\n",
    "print('Hello {}.'.format('Python'))\n",
    "\n",
    "### 次のような使い方もできます。\n",
    "template = 'Hello {}.'\n",
    "something = 'World'\n",
    "print(template.format(something))\n",
    "something = 'Python'\n",
    "print(template.format(something))"
   ]
  },
  {
   "cell_type": "markdown",
   "metadata": {},
   "source": [
    "## f記法\n",
    "    format関数と同様の処理を行いますが、python3.6以降からは、  \n",
    "    よりスッキリと記述できる \"f記法\" という書き方があります。"
   ]
  },
  {
   "cell_type": "code",
   "execution_count": 6,
   "metadata": {},
   "outputs": [
    {
     "name": "stdout",
     "output_type": "stream",
     "text": [
      "Hello World.\n"
     ]
    }
   ],
   "source": [
    "### 注意： format関数と違って、先に変数を用意しておく必要があります。\n",
    "something = 'World'\n",
    "### 展開したい部分に変数を指定します。\n",
    "print(f'Hello {something}.')"
   ]
  }
 ],
 "metadata": {
  "kernelspec": {
   "display_name": "Python 3",
   "language": "python",
   "name": "python3"
  },
  "language_info": {
   "codemirror_mode": {
    "name": "ipython",
    "version": 3
   },
   "file_extension": ".py",
   "mimetype": "text/x-python",
   "name": "python",
   "nbconvert_exporter": "python",
   "pygments_lexer": "ipython3",
   "version": "3.6.8"
  }
 },
 "nbformat": 4,
 "nbformat_minor": 4
}
